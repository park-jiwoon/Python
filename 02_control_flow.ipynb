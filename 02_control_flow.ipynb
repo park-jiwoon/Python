{
  "nbformat": 4,
  "nbformat_minor": 0,
  "metadata": {
    "colab": {
      "provenance": []
    },
    "kernelspec": {
      "name": "python3",
      "display_name": "Python 3"
    },
    "language_info": {
      "name": "python"
    }
  },
  "cells": [
    {
      "cell_type": "markdown",
      "source": [
        "#if 문에서 false인 경우\n",
        "-0,'',[],{},false\n",
        "# for문에서 in 뒤에 올 수 있는 경우\n",
        "-Collections(list,tuple,dict,set)\n",
        "\n",
        "-str:순서적으로 다루기 때문에 (순서가 있는가)\n",
        "\n",
        "-range\n",
        "\n",
        "-iterator\n",
        "\n",
        "-enumerate:인덱스+데이터\n",
        "\n",
        "-zip: 여러개의 리스트\n",
        "\n",
        "-generator:데이터 생성"
      ],
      "metadata": {
        "id": "fsClQ7QVR4tD"
      }
    },
    {
      "cell_type": "code",
      "source": [
        "score=70\n",
        "print(type(score))\n",
        "if score >= 80:\n",
        "  print('80이상')\n",
        "else:\n",
        "  print(\"80이하\")"
      ],
      "metadata": {
        "colab": {
          "base_uri": "https://localhost:8080/"
        },
        "id": "Uijl8hBRQ1DL",
        "outputId": "c018c0d0-1b68-4a84-e4c0-31c4ea8c700b"
      },
      "execution_count": null,
      "outputs": [
        {
          "output_type": "stream",
          "name": "stdout",
          "text": [
            "<class 'int'>\n",
            "80이하\n"
          ]
        }
      ]
    },
    {
      "cell_type": "code",
      "source": [
        "city=''   # 문자열 초기화\n",
        "if not city:    # not, and, or\n",
        "  print('빈문자열')"
      ],
      "metadata": {
        "colab": {
          "base_uri": "https://localhost:8080/"
        },
        "id": "a_rDo6DRRTiW",
        "outputId": "f4afa9a7-f0f0-4e62-9c1f-b9de79fc133d"
      },
      "execution_count": null,
      "outputs": [
        {
          "output_type": "stream",
          "name": "stdout",
          "text": [
            "빈문자열\n"
          ]
        }
      ]
    },
    {
      "cell_type": "code",
      "source": [
        "x=5\n",
        "ans='양수' if x>0 else '음수'       # 3항 연산자\n",
        "print(ans)"
      ],
      "metadata": {
        "colab": {
          "base_uri": "https://localhost:8080/"
        },
        "id": "e2PZKSJgRvHl",
        "outputId": "9a0bceef-3a7a-4dfa-88b3-73c1754197ea"
      },
      "execution_count": null,
      "outputs": [
        {
          "output_type": "stream",
          "name": "stdout",
          "text": [
            "양수\n"
          ]
        }
      ]
    },
    {
      "cell_type": "code",
      "source": [
        "names=['대한이','민국이','만세야']\n",
        "# name='대한이'\n",
        "for name in names:   # Collections ( list, tuple, dict , set )\n",
        "       print(name)"
      ],
      "metadata": {
        "colab": {
          "base_uri": "https://localhost:8080/"
        },
        "id": "0QqOKCZqSJCj",
        "outputId": "26b9d275-4a19-4696-de71-ec614c60c386"
      },
      "execution_count": null,
      "outputs": [
        {
          "output_type": "stream",
          "name": "stdout",
          "text": [
            "대한이\n",
            "민국이\n",
            "만세야\n"
          ]
        }
      ]
    },
    {
      "cell_type": "code",
      "source": [
        "enumerate(names)  # 파이썬에서는 모든 것이클래스 (객체)"
      ],
      "metadata": {
        "colab": {
          "base_uri": "https://localhost:8080/"
        },
        "id": "XYUaDmu7SqcD",
        "outputId": "7f1a8955-9e8a-4d26-f32e-e6a1d20873ae"
      },
      "execution_count": null,
      "outputs": [
        {
          "output_type": "execute_result",
          "data": {
            "text/plain": [
              "<enumerate at 0x7ab3ebb213c0>"
            ]
          },
          "metadata": {},
          "execution_count": 215
        }
      ]
    },
    {
      "cell_type": "code",
      "source": [
        "list(enumerate(names))    # tuple로 나옴"
      ],
      "metadata": {
        "colab": {
          "base_uri": "https://localhost:8080/"
        },
        "id": "svhicRhfVWva",
        "outputId": "bd9005fe-5005-403f-adfb-3bf73a88f00c"
      },
      "execution_count": null,
      "outputs": [
        {
          "output_type": "execute_result",
          "data": {
            "text/plain": [
              "[(0, '대한이'), (1, '민국이'), (2, '만세야')]"
            ]
          },
          "metadata": {},
          "execution_count": 214
        }
      ]
    },
    {
      "cell_type": "code",
      "source": [
        "# 인덱스가 같이 반환\n",
        "for name in enumerate(names):\n",
        "  print(name)"
      ],
      "metadata": {
        "colab": {
          "base_uri": "https://localhost:8080/"
        },
        "id": "VgN1gP90VicZ",
        "outputId": "a15ae475-39e7-4766-8f4f-8b46fe5f4f85"
      },
      "execution_count": null,
      "outputs": [
        {
          "output_type": "stream",
          "name": "stdout",
          "text": [
            "(0, '대한이')\n",
            "(1, '민국이')\n",
            "(2, '만세야')\n"
          ]
        }
      ]
    },
    {
      "cell_type": "code",
      "source": [
        "for num, name in enumerate(names):  # 별도로 찢어서 받을 수 있음, 숫자는 num이 str은 name 이 받음\n",
        "  print(num,name)"
      ],
      "metadata": {
        "colab": {
          "base_uri": "https://localhost:8080/"
        },
        "id": "m_Xy3lycVxo6",
        "outputId": "ee7754ef-138e-459c-f5ee-478a1a039e3c"
      },
      "execution_count": null,
      "outputs": [
        {
          "output_type": "stream",
          "name": "stdout",
          "text": [
            "0 대한이\n",
            "1 민국이\n",
            "2 만세야\n"
          ]
        }
      ]
    },
    {
      "cell_type": "code",
      "source": [
        "monarchs=[('대한이',1), ('민국이',3), ('만세야',6),('성공',1)]\n",
        "monarchs.sort()\n",
        "print(monarchs)"
      ],
      "metadata": {
        "colab": {
          "base_uri": "https://localhost:8080/"
        },
        "id": "eLudO3u-WTR1",
        "outputId": "b2113d93-6d52-45eb-c4e0-d4c11680e42a"
      },
      "execution_count": null,
      "outputs": [
        {
          "output_type": "stream",
          "name": "stdout",
          "text": [
            "[('대한이', 1), ('만세야', 6), ('민국이', 3), ('성공', 1)]\n"
          ]
        }
      ]
    },
    {
      "cell_type": "code",
      "source": [
        "# insert, remove, pop\n",
        "# del(일반 명령어,리스트의 명령어가 아님)\n",
        "# del을 쓰면 주소만 사라지고 데이터는그대로\n",
        "names=['대한','민국','만세','성공']     # garbage collection 이 없애줌\n",
        "data=[1,3,6,1]\n",
        "zip(names,data)\n",
        "list(zip(names,data))"
      ],
      "metadata": {
        "colab": {
          "base_uri": "https://localhost:8080/"
        },
        "id": "dvpI0rQmW0GR",
        "outputId": "3be288eb-9af4-4d88-f367-879bfed5ebfd"
      },
      "execution_count": null,
      "outputs": [
        {
          "output_type": "execute_result",
          "data": {
            "text/plain": [
              "[('대한', 1), ('민국', 3), ('만세', 6), ('성공', 1)]"
            ]
          },
          "metadata": {},
          "execution_count": 21
        }
      ]
    },
    {
      "cell_type": "code",
      "source": [
        "# lambds 함수는 무명함수(이름이 x => 다시 사용하지 않는 일회용 함수)\n",
        "# 파이썬의 함수는 객체임\n",
        "# 클래스도 함수가 될 수 있다 (call 오버 라이딩하면)\n",
        "\n",
        "# 이렇게 사용하면 변수에 남아 있는데 1번만 쓸거면 좋지 않다\n",
        "# select = lambda row : row[1]\n",
        "# monarchs.sort(key=select)\n",
        "\n",
        "monarchs.sort(key=lambda row: row[1])   # 매개변수 row를 주고\n",
        "# 인덱스 1을 기준으로 잡고 정렬을 해라\n",
        "print(monarchs)"
      ],
      "metadata": {
        "colab": {
          "base_uri": "https://localhost:8080/"
        },
        "id": "J5zimbDzW-0Z",
        "outputId": "900d25d7-7631-48ee-ba8c-64bff27fb55b"
      },
      "execution_count": null,
      "outputs": [
        {
          "output_type": "stream",
          "name": "stdout",
          "text": [
            "[('대한이', 1), ('성공', 1), ('민국이', 3), ('만세야', 6)]\n"
          ]
        }
      ]
    },
    {
      "cell_type": "code",
      "source": [
        "monarchs.sort(key=lambda row : row[1], reverse=True)    # lambda 매개변수: 반환값\n",
        "print(monarchs)"
      ],
      "metadata": {
        "colab": {
          "base_uri": "https://localhost:8080/"
        },
        "id": "uAiv7VRXYNbT",
        "outputId": "280aa71b-60bc-40dc-d8a0-6b5a5b7aaeb4"
      },
      "execution_count": null,
      "outputs": [
        {
          "output_type": "stream",
          "name": "stdout",
          "text": [
            "[('만세야', 6), ('민국이', 3), ('대한이', 1), ('성공', 1)]\n"
          ]
        }
      ]
    },
    {
      "cell_type": "code",
      "source": [
        "# monarchs[1][0]='대한민국'   <- 오류! 튜플은 수정이 불가하므로"
      ],
      "metadata": {
        "id": "vv6fqzG9ZQXB"
      },
      "execution_count": null,
      "outputs": []
    },
    {
      "cell_type": "code",
      "source": [
        "school=[]\n",
        "name=input('이름을 입력하시요:')\n",
        "kor=eval(input(\"국어점수를 입력하시오!\"))\n",
        "school.append([name,kor])\n",
        "name=input(\"이름을 입력하시요:\")\n",
        "kor=eval(input(\"국어 점수를 입렵하시요!\"))\n",
        "school.append([name,kor])\n",
        "name=input(\"이름을 입력하시요:\")\n",
        "kor=eval(input(\"국어점수를 입력하시요!\"))\n",
        "school.append([name,kor])\n",
        "# 문제 : 위 데이터의 점수를 중심하고 내림차순으로 정렬해 출력하시요\n",
        "print(school)"
      ],
      "metadata": {
        "colab": {
          "base_uri": "https://localhost:8080/"
        },
        "id": "EMj4TKWyZg2A",
        "outputId": "7db81c84-090b-484f-9652-9dfe584dcd55"
      },
      "execution_count": null,
      "outputs": [
        {
          "output_type": "stream",
          "name": "stdout",
          "text": [
            "이름을 입력하시요: 1\n",
            "국어점수를 입력하시오!2\n",
            "이름을 입력하시요:3\n",
            "국어 점수를 입렵하시요!4\n",
            "이름을 입력하시요:5\n",
            "국어점수를 입력하시요!6\n",
            "[['1', 2], ['3', 4], ['5', 6]]\n"
          ]
        }
      ]
    },
    {
      "cell_type": "code",
      "source": [
        "school.sort(key=lambda row : row[1], reverse=True)\n",
        "print(school)"
      ],
      "metadata": {
        "colab": {
          "base_uri": "https://localhost:8080/"
        },
        "id": "pR2oXQGyaIC4",
        "outputId": "08579d4f-1a26-4459-ec07-c6a6ad1896f8"
      },
      "execution_count": null,
      "outputs": [
        {
          "output_type": "stream",
          "name": "stdout",
          "text": [
            "[['5', 6], ['3', 4], ['1', 2]]\n"
          ]
        }
      ]
    },
    {
      "cell_type": "code",
      "source": [
        "# 반복문 for in : 횟수조절 = range\n",
        "schools=[]\n",
        "for i in range(3):    # 3번만 돌려  # 0,1,2\n",
        "  name = input(\"이름을 입력하세요:\")\n",
        "  kor=eval(input(\"국어점수를 입력하세요!\"))\n",
        "  pair=[]\n",
        "  pair.append(name)\n",
        "  pair.append(kor)\n",
        "  schools.append(pair)    # 2차원 리스트\n",
        "  schools.sort(key=lambda row:row[1], reverse=True)\n",
        "  print(schools)"
      ],
      "metadata": {
        "colab": {
          "base_uri": "https://localhost:8080/"
        },
        "id": "xUhTzkIUa2PY",
        "outputId": "38ae14c3-8fb7-47c6-9041-0cf808a7d0ad"
      },
      "execution_count": null,
      "outputs": [
        {
          "output_type": "stream",
          "name": "stdout",
          "text": [
            "이름을 입력하세요:100\n",
            "국어점수를 입력하세요!100\n",
            "[['100', 100]]\n",
            "['100', 100]\n",
            "이름을 입력하세요:20\n",
            "국어점수를 입력하세요!20\n",
            "[['100', 100], ['20', 20]]\n",
            "['20', 20]\n",
            "이름을 입력하세요:30\n",
            "국어점수를 입력하세요!30\n",
            "[['100', 100], ['20', 20], ['30', 30]]\n",
            "['30', 30]\n"
          ]
        }
      ]
    },
    {
      "cell_type": "markdown",
      "source": [
        "# 문제\n",
        "# 010-123-4567 에서 010만 추출 해 보시요"
      ],
      "metadata": {
        "id": "bWnT1JKscTY5"
      }
    },
    {
      "cell_type": "code",
      "source": [
        "tel='010-123-4567'\n",
        "tel.split('-')[0]     # optimization      코드를 간소화"
      ],
      "metadata": {
        "colab": {
          "base_uri": "https://localhost:8080/",
          "height": 35
        },
        "id": "RMT96WV3cYVC",
        "outputId": "307e8ad6-0aee-4284-a825-d69a63a68fe3"
      },
      "execution_count": null,
      "outputs": [
        {
          "output_type": "execute_result",
          "data": {
            "text/plain": [
              "'010'"
            ],
            "application/vnd.google.colaboratory.intrinsic+json": {
              "type": "string"
            }
          },
          "metadata": {},
          "execution_count": 39
        }
      ]
    },
    {
      "cell_type": "code",
      "source": [
        "# 3가지 경우의 수 표현 (경우의 수)\n",
        "number=0\n",
        "if number >0:\n",
        "  print(\"Positive number\")\n",
        "elif number ==0:\n",
        "  print(\"Zero\")\n",
        "else:\n",
        "  print('Negative number')"
      ],
      "metadata": {
        "colab": {
          "base_uri": "https://localhost:8080/"
        },
        "id": "iSY4SkDLbiOz",
        "outputId": "a9cc7257-a109-4653-af6d-dd0d011645dc"
      },
      "execution_count": null,
      "outputs": [
        {
          "output_type": "stream",
          "name": "stdout",
          "text": [
            "Zero\n"
          ]
        }
      ]
    },
    {
      "cell_type": "code",
      "source": [
        "# 문제\n",
        "# 수입(income)과 지출(costs)를 입력받아서 순수입을 출력하는 프로그램을 작성하시오\n",
        "# 경우의 수\n",
        "# 수입>지출, 수입=지출, 수입<지출\n",
        "# 손익 분기점, 순수입 , 순손실의 3가지 경우의 수 발생\n",
        "income=eval(input('수입'))\n",
        "costs=eval(input('지출'))\n",
        "if income == costs:\n",
        "  result == ('손익분기점')\n",
        "elif costs<income:\n",
        "  profit = income- costs\n",
        "  result== '순수임 = {0:.2f}'.format(profit)  # format 문자열 (C#문자열)\n",
        "else:\n",
        "  loss=costs-income\n",
        "  result='순손실= {0:.2f}'.format(loss)\n",
        "\n",
        "print(result)"
      ],
      "metadata": {
        "colab": {
          "base_uri": "https://localhost:8080/"
        },
        "id": "OELPw0wcdqJ6",
        "outputId": "9fad9492-a73c-4164-aa70-30684cd3a45d"
      },
      "execution_count": null,
      "outputs": [
        {
          "output_type": "stream",
          "name": "stdout",
          "text": [
            "수입111\n",
            "지출222\n",
            "순손실= 111.00\n"
          ]
        }
      ]
    },
    {
      "cell_type": "code",
      "source": [
        "# 내포된 if 문 : 다중도 가능\n",
        "income=eval(input('수입'))\n",
        "costs = eval(input('비용'))\n",
        "if costs == income:\n",
        "  result = '손익 분기점'\n",
        "else:\n",
        "  if costs < income:\n",
        "    profit=income-costs\n",
        "    result=f'손수익={profit:.2f}'  #  f 문자열 이용\n",
        "  else:\n",
        "    loss=costs-income\n",
        "    result=f'순손실={loss:.2f}'\n",
        "\n",
        "print(result)"
      ],
      "metadata": {
        "colab": {
          "base_uri": "https://localhost:8080/"
        },
        "id": "7dkTt57ZfRTh",
        "outputId": "e772a59d-5d3a-429d-893b-5a2374f43781"
      },
      "execution_count": null,
      "outputs": [
        {
          "output_type": "stream",
          "name": "stdout",
          "text": [
            "수입100\n",
            "비용100\n",
            "손익 분기점\n"
          ]
        }
      ]
    },
    {
      "cell_type": "markdown",
      "source": [
        "-(반응에 따른 날씨 예측 프로그램)\n",
        "\n",
        "\n",
        "\n",
        "\n",
        "                     BLUE      RED\n",
        "\n",
        "\n",
        "    STEADY          화창      비오는날\n",
        "\n",
        "    FLASHING        구름      눈오는날"
      ],
      "metadata": {
        "id": "npadYLoLkZK_"
      }
    },
    {
      "cell_type": "code",
      "source": [
        "# 문제\n",
        "# color와 mode를 받아서 날씨를 예측하는 프로그램을 작성하시오\n",
        "color=input('BLUE/RED')\n",
        "mode=input('STEADY/FLASHING')\n",
        "# 논리연산자를 사용하는 경우\n",
        "# if, elif, else\n",
        "\n",
        "# 논리연산자를 사용x 경우\n",
        "# if, if , else, if ,else\n",
        "\n",
        "color=color.upper()\n",
        "mode=mode.upper()\n",
        "\n",
        "if color=='BLUE' and mode=='STEADY':\n",
        "  result=\"화창\"\n",
        "elif color=='BLUE' and mode=='FLASHING':\n",
        "    result='구름'\n",
        "elif color=='RED' and mode=='STEADY':\n",
        "    result='비오는 날'\n",
        "else :\n",
        "    result='눈오는 날'\n",
        "\n",
        "print(result)"
      ],
      "metadata": {
        "colab": {
          "base_uri": "https://localhost:8080/"
        },
        "id": "u6A8Aba8jkvY",
        "outputId": "e5cdf90e-1544-45ad-e7ac-8c474e03ce0a"
      },
      "execution_count": null,
      "outputs": [
        {
          "output_type": "stream",
          "name": "stdout",
          "text": [
            "BLUE/REDblue\n",
            "STEADY/FLASHINGflashing\n",
            "구름\n"
          ]
        }
      ]
    },
    {
      "cell_type": "code",
      "source": [
        "# 논리연산자를 사용하지 않는 경우\n",
        "# chaining\n",
        "color=input('BLUE/RED').upper()\n",
        "mode=input('STEADY/FLASHING').upper()\n",
        "result=\"\"\n",
        "if color=='BULE':\n",
        "  if mode=='STEADY':\n",
        "    result='화창'\n",
        "  else:\n",
        "    result='구름'\n",
        "else:\n",
        "  if mode=='STEADY':\n",
        "    result='비'\n",
        "  else:\n",
        "    result='눈'\n",
        "print('예측된 날씨는 ',result)\n",
        "\n",
        "# 입력 --> 처리 --> 출력"
      ],
      "metadata": {
        "colab": {
          "base_uri": "https://localhost:8080/"
        },
        "id": "05FfygVQoZ-e",
        "outputId": "77990d8a-5228-4808-8a12-94d6cc02815f"
      },
      "execution_count": null,
      "outputs": [
        {
          "output_type": "stream",
          "name": "stdout",
          "text": [
            "BLUE/REDred\n",
            "STEADY/FLASHINGflashing\n",
            "예측된 날씨는  눈\n"
          ]
        }
      ]
    },
    {
      "cell_type": "code",
      "source": [
        "# 점수를 입력받아서 A,B,C,D,F 학점으로 출력하시오 (경우의 수 5가지)\n",
        "jumsu=eval(input(\"점수를 입력하세요!\"))\n",
        "if jumsu>=90:\n",
        "  result='A'\n",
        "elif jumsu>=80:\n",
        "  result='B'\n",
        "elif jumsu>=70:\n",
        "  result='C'\n",
        "elif jumsu>=60:\n",
        "  result='D'\n",
        "else:\n",
        "  result='F'\n",
        "\n",
        "print(f'당신의 학점은 {result} 입니다')"
      ],
      "metadata": {
        "colab": {
          "base_uri": "https://localhost:8080/"
        },
        "id": "2OsaLJGKpj62",
        "outputId": "c1a7c5bb-8286-4a23-e081-1382c9471cf2"
      },
      "execution_count": null,
      "outputs": [
        {
          "output_type": "stream",
          "name": "stdout",
          "text": [
            "점수를 입력하세요!90\n",
            "당신의 학점은 A 입니다\n"
          ]
        }
      ]
    },
    {
      "cell_type": "code",
      "source": [
        "# 1개의 과일가격 100.50원에 세금 12.5%를 붙여서 팔았다. 매출액은 얼마인가?\n",
        "# 세금과 매출액이 얼마인지 출력하세요\n",
        "# 소수점 2째자리까지 표현하시오\n",
        "price=100.50\n",
        "tax_rate=0.125\n",
        "sales_price=price*(1+tax_rate)\n",
        "tax_per_one=price*tax_rate\n",
        "formatted_tax = \"{:.2f}\".format(tax_rate)\n",
        "print(f'세금={round(tax_per_one,2)},1개 판매가격={round(sales_price,2)}')"
      ],
      "metadata": {
        "colab": {
          "base_uri": "https://localhost:8080/"
        },
        "id": "iPAlpOb0qbSf",
        "outputId": "65e50498-87ec-41ff-c638-c0c329d56fce"
      },
      "execution_count": null,
      "outputs": [
        {
          "output_type": "stream",
          "name": "stdout",
          "text": [
            "세금=12.56,1개 판매가격=113.06\n"
          ]
        }
      ]
    },
    {
      "cell_type": "code",
      "source": [
        "# 판매갯수를 입력 받아서 세금 총액과 매출 총액을 출력하시오\n",
        "selling_num=int(input('판매갯수:'))\n",
        "tax_all=tax_per_one*selling_num\n",
        "print('세금 총액 = ',tax_all)\n",
        "sell_all=sales_price*selling_num\n",
        "print('판매 총액 = ',sell_all)"
      ],
      "metadata": {
        "colab": {
          "base_uri": "https://localhost:8080/"
        },
        "id": "saGecAJOt7cs",
        "outputId": "e519175a-d0f0-45b7-e667-43cb1a407c14"
      },
      "execution_count": null,
      "outputs": [
        {
          "output_type": "stream",
          "name": "stdout",
          "text": [
            "판매갯수:100000\n",
            "세금 총액 =  1256250.0\n",
            "판매 총액 =  11306250.0\n"
          ]
        }
      ]
    },
    {
      "cell_type": "code",
      "source": [
        "# 평수=제곱미터/3.305\n",
        "# 제곱미터로 입력되는 아파트 면적을 평수로 계산하고 종류를 판정하시오\n",
        "#- 소형(17이하), 중형(17~30), 대형(30이상)\n",
        "ze=eval(input('아파트 면적(m^2)를 입력하세요:'))\n",
        "p=round(ze/3.305,2)\n",
        "if p<=17: print('소형 아파트')\n",
        "elif p<30: print('중형 아파트')\n",
        "else: print('대형 아파트')"
      ],
      "metadata": {
        "colab": {
          "base_uri": "https://localhost:8080/"
        },
        "id": "i2IHazRDyZI-",
        "outputId": "86e2c9ce-65f8-43dc-8769-7d5d996a7141"
      },
      "execution_count": null,
      "outputs": [
        {
          "output_type": "stream",
          "name": "stdout",
          "text": [
            "아파트 면적(m^2)를 입력하세요:30\n",
            "소형 아파트\n"
          ]
        }
      ]
    },
    {
      "cell_type": "code",
      "source": [
        "# 놀이공원 매표소 단체 입장료 계산하기\n",
        "# 조건: 팀별 인원 구성을 입력 ( 초등, 청소년, 성인, 경로대상) 하면\n",
        "# 입장료 소견표에 ㄸ라\n",
        "# 정산요금 : 초등(5000원),청소년(10000원), 성인(15000원), 경로대상(3000원)\n",
        "# 팀별할인크드\n",
        "# 카드 없음: 할인 , 일반카드:10%, VIP:20%\n",
        "# 위의 데이터를 참조하여 총 요금을 계산하시오\n",
        "\n",
        "# element = 5000\n",
        "# Youth = 10000\n",
        "# Adult = 15000\n",
        "# Senior = 3000\n",
        "# normal = 10/100\n",
        "# VIP = 20/100\n",
        "\n",
        "# team_member = input('구성원 입력:')\n",
        "# card_grade = input('카드 등급 입력:')\n",
        "\n",
        "# if team_member == '초등':\n",
        "#     cost = element\n",
        "# elif team_member == '청소년':\n",
        "#     cost = Youth\n",
        "# elif team_member == '일반인':\n",
        "#     cost = Adult\n",
        "# else:\n",
        "#     cost = Senior\n",
        "\n",
        "# if card_grade == 'VIP':\n",
        "#     total_cost = cost * (1 - VIP)\n",
        "# elif card_grade='non':\n",
        "#    total_cost=cost\n",
        "# else:\n",
        "#     total_cost = cost * (1 - normal)\n",
        "\n",
        "# print(f'총 비용: {total_cost}')"
      ],
      "metadata": {
        "id": "Oq3rSVzCzfV9"
      },
      "execution_count": null,
      "outputs": []
    },
    {
      "cell_type": "code",
      "source": [
        "ele=int(input('초등학생 몇명?'))\n",
        "teen=int(input('청소년 몇명?'))\n",
        "adult=int(input('일반 몇 명?'))\n",
        "senior=int(input('경로대상은 몇명?'))\n",
        "ele_tot=5000*ele\n",
        "teen_tot=10000*teen\n",
        "adult_tot=15000*adult\n",
        "sen_tot=3000*senior\n",
        "\n",
        "tot=ele_tot+teen_tot+adult_tot+sen_tot\n",
        "sel=int(input(\"카드없음(0),일반카드(1),VIP(2)를 선택해주세요\"))\n",
        "if sel==0: total_cost=tot\n",
        "elif sel==1: total_cost=tot*0.9\n",
        "elif sel==2: total_cost=tot*0.8\n",
        "print(\"총 요금은 \" , total_cost,\" 원 입니다.\")"
      ],
      "metadata": {
        "colab": {
          "base_uri": "https://localhost:8080/"
        },
        "id": "Rk-9tlWdKiYo",
        "outputId": "b4650c7e-ea26-4b41-95ef-8c65b4e2493e"
      },
      "execution_count": null,
      "outputs": [
        {
          "output_type": "stream",
          "name": "stdout",
          "text": [
            "초등학생 몇명?5\n",
            "청소년 몇명?1\n",
            "일반 몇 명?2\n",
            "경로대상은 몇명?3\n",
            "카드없음(0),일반카드(1),VIP(2)를 선택해주세요1\n",
            "총 요금은  66600.0  원 입니다.\n"
          ]
        }
      ]
    },
    {
      "cell_type": "code",
      "source": [
        "ele_rate=5000\n",
        "teen_rate=10000\n",
        "adult_rate=15000\n",
        "sen_rate=3000\n",
        "discount_general=0.9\n",
        "discount_vip=0.8\n",
        "\n",
        "ele=int(input('초등학생 몇명?'))\n",
        "teen=int(input('청소년 몇명?'))\n",
        "adult=int(input('일반 몇 명?'))\n",
        "senior=int(input('경로대상은 몇명?'))\n",
        "\n",
        "ele_tot=ele_rate*ele\n",
        "teen_tot=teen_rate*teen\n",
        "adult_tot=adult_rate*adult\n",
        "sen_tot=sen_rate*senior\n",
        "\n",
        "tot=ele_tot+teen_tot+adult_tot+sen_tot\n",
        "sel=int(input(\"카드없음(0),일반카드(1),VIP(21)를 선택해주세요\"))\n",
        "if sel==0: total_cost=tot\n",
        "elif sel==1: total_cost=tot*discount_general\n",
        "elif sel==2: total_cost=tot*discount_vip\n",
        "print(\"총 요금은 \" , total_cost,\" 원 입니다.\")"
      ],
      "metadata": {
        "colab": {
          "base_uri": "https://localhost:8080/"
        },
        "id": "KWy_M3s-MIH4",
        "outputId": "0b330141-00a8-4f08-bde7-348298249d19"
      },
      "execution_count": null,
      "outputs": [
        {
          "output_type": "stream",
          "name": "stdout",
          "text": [
            "초등학생 몇명?1\n",
            "청소년 몇명?1\n",
            "일반 몇 명?1\n",
            "경로대상은 몇명?1\n",
            "카드없음(0),일반카드(1),VIP(21)를 선택해주세요1\n",
            "총 요금은  29700.0  원 입니다.\n"
          ]
        }
      ]
    },
    {
      "cell_type": "code",
      "source": [
        "# if 문을 사용하지 않는다면?\n",
        "ele_rate=5000\n",
        "teen_rate=10000\n",
        "adult_rate=15000\n",
        "sen_rate=3000\n",
        "discount_general=0.9\n",
        "discount_vip=0.8\n",
        "\n",
        "ele=int(input('초등학생 몇명?'))\n",
        "teen=int(input('청소년 몇명?'))\n",
        "adult=int(input('일반 몇 명?'))\n",
        "senior=int(input('경로대상은 몇명?'))\n",
        "\n",
        "ele_tot=ele_rate*ele\n",
        "teen_tot=teen_rate*teen\n",
        "adult_tot=adult_rate*adult\n",
        "sen_tot=sen_rate*senior\n",
        "\n",
        "tot=ele_tot+teen_tot+adult_tot+sen_tot\n",
        "\n",
        "sel=int(input(\"카드없음(0),일반카드(1),VIP(21)를 선택해주세요\"))\n",
        "select=[tot,tot*discount_general,tot*discount_vip]\n",
        "# 메모리 낭비\n",
        "print('총 요금은',select[sel], '원 입니다.')"
      ],
      "metadata": {
        "colab": {
          "base_uri": "https://localhost:8080/",
          "height": 410
        },
        "id": "ZmScml_xNv9R",
        "outputId": "9fa3cb3b-9bcf-4e68-ce53-4214eb610a3f"
      },
      "execution_count": null,
      "outputs": [
        {
          "output_type": "error",
          "ename": "KeyboardInterrupt",
          "evalue": "ignored",
          "traceback": [
            "\u001b[0;31m---------------------------------------------------------------------------\u001b[0m",
            "\u001b[0;31mKeyboardInterrupt\u001b[0m                         Traceback (most recent call last)",
            "\u001b[0;32m<ipython-input-216-4f4961aa42c2>\u001b[0m in \u001b[0;36m<cell line: 9>\u001b[0;34m()\u001b[0m\n\u001b[1;32m      7\u001b[0m \u001b[0mdiscount_vip\u001b[0m\u001b[0;34m=\u001b[0m\u001b[0;36m0.8\u001b[0m\u001b[0;34m\u001b[0m\u001b[0;34m\u001b[0m\u001b[0m\n\u001b[1;32m      8\u001b[0m \u001b[0;34m\u001b[0m\u001b[0m\n\u001b[0;32m----> 9\u001b[0;31m \u001b[0mele\u001b[0m\u001b[0;34m=\u001b[0m\u001b[0mint\u001b[0m\u001b[0;34m(\u001b[0m\u001b[0minput\u001b[0m\u001b[0;34m(\u001b[0m\u001b[0;34m'초등학생 몇명?'\u001b[0m\u001b[0;34m)\u001b[0m\u001b[0;34m)\u001b[0m\u001b[0;34m\u001b[0m\u001b[0;34m\u001b[0m\u001b[0m\n\u001b[0m\u001b[1;32m     10\u001b[0m \u001b[0mteen\u001b[0m\u001b[0;34m=\u001b[0m\u001b[0mint\u001b[0m\u001b[0;34m(\u001b[0m\u001b[0minput\u001b[0m\u001b[0;34m(\u001b[0m\u001b[0;34m'청소년 몇명?'\u001b[0m\u001b[0;34m)\u001b[0m\u001b[0;34m)\u001b[0m\u001b[0;34m\u001b[0m\u001b[0;34m\u001b[0m\u001b[0m\n\u001b[1;32m     11\u001b[0m \u001b[0madult\u001b[0m\u001b[0;34m=\u001b[0m\u001b[0mint\u001b[0m\u001b[0;34m(\u001b[0m\u001b[0minput\u001b[0m\u001b[0;34m(\u001b[0m\u001b[0;34m'일반 몇 명?'\u001b[0m\u001b[0;34m)\u001b[0m\u001b[0;34m)\u001b[0m\u001b[0;34m\u001b[0m\u001b[0;34m\u001b[0m\u001b[0m\n",
            "\u001b[0;32m/usr/local/lib/python3.10/dist-packages/ipykernel/kernelbase.py\u001b[0m in \u001b[0;36mraw_input\u001b[0;34m(self, prompt)\u001b[0m\n\u001b[1;32m    849\u001b[0m                 \u001b[0;34m\"raw_input was called, but this frontend does not support input requests.\"\u001b[0m\u001b[0;34m\u001b[0m\u001b[0;34m\u001b[0m\u001b[0m\n\u001b[1;32m    850\u001b[0m             )\n\u001b[0;32m--> 851\u001b[0;31m         return self._input_request(str(prompt),\n\u001b[0m\u001b[1;32m    852\u001b[0m             \u001b[0mself\u001b[0m\u001b[0;34m.\u001b[0m\u001b[0m_parent_ident\u001b[0m\u001b[0;34m,\u001b[0m\u001b[0;34m\u001b[0m\u001b[0;34m\u001b[0m\u001b[0m\n\u001b[1;32m    853\u001b[0m             \u001b[0mself\u001b[0m\u001b[0;34m.\u001b[0m\u001b[0m_parent_header\u001b[0m\u001b[0;34m,\u001b[0m\u001b[0;34m\u001b[0m\u001b[0;34m\u001b[0m\u001b[0m\n",
            "\u001b[0;32m/usr/local/lib/python3.10/dist-packages/ipykernel/kernelbase.py\u001b[0m in \u001b[0;36m_input_request\u001b[0;34m(self, prompt, ident, parent, password)\u001b[0m\n\u001b[1;32m    893\u001b[0m             \u001b[0;32mexcept\u001b[0m \u001b[0mKeyboardInterrupt\u001b[0m\u001b[0;34m:\u001b[0m\u001b[0;34m\u001b[0m\u001b[0;34m\u001b[0m\u001b[0m\n\u001b[1;32m    894\u001b[0m                 \u001b[0;31m# re-raise KeyboardInterrupt, to truncate traceback\u001b[0m\u001b[0;34m\u001b[0m\u001b[0;34m\u001b[0m\u001b[0m\n\u001b[0;32m--> 895\u001b[0;31m                 \u001b[0;32mraise\u001b[0m \u001b[0mKeyboardInterrupt\u001b[0m\u001b[0;34m(\u001b[0m\u001b[0;34m\"Interrupted by user\"\u001b[0m\u001b[0;34m)\u001b[0m \u001b[0;32mfrom\u001b[0m \u001b[0;32mNone\u001b[0m\u001b[0;34m\u001b[0m\u001b[0;34m\u001b[0m\u001b[0m\n\u001b[0m\u001b[1;32m    896\u001b[0m             \u001b[0;32mexcept\u001b[0m \u001b[0mException\u001b[0m \u001b[0;32mas\u001b[0m \u001b[0me\u001b[0m\u001b[0;34m:\u001b[0m\u001b[0;34m\u001b[0m\u001b[0;34m\u001b[0m\u001b[0m\n\u001b[1;32m    897\u001b[0m                 \u001b[0mself\u001b[0m\u001b[0;34m.\u001b[0m\u001b[0mlog\u001b[0m\u001b[0;34m.\u001b[0m\u001b[0mwarning\u001b[0m\u001b[0;34m(\u001b[0m\u001b[0;34m\"Invalid Message:\"\u001b[0m\u001b[0;34m,\u001b[0m \u001b[0mexc_info\u001b[0m\u001b[0;34m=\u001b[0m\u001b[0;32mTrue\u001b[0m\u001b[0;34m)\u001b[0m\u001b[0;34m\u001b[0m\u001b[0;34m\u001b[0m\u001b[0m\n",
            "\u001b[0;31mKeyboardInterrupt\u001b[0m: Interrupted by user"
          ]
        }
      ]
    },
    {
      "cell_type": "markdown",
      "source": [
        "과세표준\t기본세율\n",
        "1,400만원 이하\t과세표준의 6%\n",
        "\n",
        "1,400만원 초과~5,000만원 이하\t84만원 + (1,400만원 초과금액의 15%)\n",
        "\n",
        "5,000만원 초과~8,800만원 이하\t624만원 + (5,000만원 초과금액의 24%)\n",
        "\n",
        "8,800만원 초과~1억5천만원 이하\t1,536만원 + (8,800만원 초과금액의 35%)"
      ],
      "metadata": {
        "id": "ezslXzqbQSFo"
      }
    },
    {
      "cell_type": "markdown",
      "source": [],
      "metadata": {
        "id": "jYUjf6eBQS2_"
      }
    },
    {
      "cell_type": "code",
      "source": [
        "sal=int(input('연봉을 입력해 주세요:'))\n",
        "one=14000000\n",
        "two=50000000\n",
        "three=88000000\n",
        "four=150000000\n",
        "dis_one=0.06\n",
        "dis_two=0.15\n",
        "dis_three=0.24\n",
        "dis_four=0.35\n",
        "\n",
        "if sal<=one:\n",
        "  tax=sal*dis_one\n",
        "elif one<sal<=two:\n",
        "  tax=(sal-one)*dis_two+840000\n",
        "elif two<sal<=three:\n",
        "  tax=(sal-two)*dis_three+6240000\n",
        "else:\n",
        "  tax=(sal-three)*dis_four+15360000\n",
        "\n",
        "print('당신의 연봉:',sal)\n",
        "print('당신의 세금:',tax)\n",
        "print('실 수령금:',sal-tax)"
      ],
      "metadata": {
        "colab": {
          "base_uri": "https://localhost:8080/"
        },
        "id": "QnrM_IZdPCmi",
        "outputId": "c47bd837-c728-4d6c-cb9d-c79f5db00a57"
      },
      "execution_count": null,
      "outputs": [
        {
          "output_type": "stream",
          "name": "stdout",
          "text": [
            "연봉을 입력해 주세요:1000000000\n",
            "당신의 연봉: 1000000000\n",
            "당신의 세금: 334560000.0\n",
            "실 수령금: 665440000.0\n"
          ]
        }
      ]
    },
    {
      "cell_type": "code",
      "source": [
        "annual_income=int(input('연봉'))\n",
        "tax=0.0\n",
        "if annual_income <14000000:\n",
        "  tax= annual_income*0.06\n",
        "elif annual_income<50000000:\n",
        "  tax=14000000*0.06+(annual_income*-14000000)*0.15\n",
        "elif annual_income<88000000:\n",
        "  tax=14000000*0.06+(50000000-14000000)*0.15+(annual_income-50000000)*0.24\n",
        "elif annual_income<150000000\n",
        "  tax=14000000*0.06+(50000000-14000000)*0.15+(88000000-50000000)*0.24+(annual_income-88000000)*.35"
      ],
      "metadata": {
        "id": "j8w1IeQUYNcv"
      },
      "execution_count": null,
      "outputs": []
    },
    {
      "cell_type": "code",
      "source": [
        "annual_income=int(input('연봉'))\n",
        "tax=0.0\n",
        "income_interval=[14000000,50000000,88000000,150000000,300000000,500000000,1000000000]\n",
        "income_level=[0,14000000,50000000,88000000,150000000,300000000,500000000,1000000000]  # 구간값 정의\n",
        "basic_tax=[0,840000,6240000,15360000,37060000,94060000,174060000,384060000]\n",
        "tax_rate=[0.06,0.15,0.24,0.35,0.38,0.40,0.42,0.45]\n",
        "if annual_income<income_interval[0]:\n",
        "  tax=basic_tax[0]+(annual_income-income_level[0])*tax_rate[0]\n",
        "elif annual_income<income_interval[1]:\n",
        "  tax=basic_tax[1]+(annual_income-income_level[1])*tax_rate[1]\n",
        "elif annual_income<income_interval[2]:\n",
        "  tax=basic_tax[2]+(annual_income-income_level[2])*tax_rate[2]\n",
        "elif annual_income<income_interval[3]:\n",
        "  tax=basic_tax[3]+(annual_income-income_level[3])*tax_rate[3]\n",
        "elif annual_income<income_interval[4]:\n",
        "  tax=basic_tax[4]+(annual_income-income_level[4])*tax_rate[4]\n",
        "elif annual_income<income_interval[5]:\n",
        "  tax=basic_tax[5]+(annual_income-income_level[5])*tax_rate[5]\n",
        "elif annual_income<income_interval[6]:\n",
        "  tax=basic_tax[6]+(annual_income-income_level[6])*tax_rate[6]\n",
        "else:\n",
        "  tax=basic_tax[7]+(annual_income-income_level[7])*tax_rate[7]\n",
        "\n",
        "print('당신의 연봉:',annual_income,'실 수령액:',annual_income-tax)"
      ],
      "metadata": {
        "colab": {
          "base_uri": "https://localhost:8080/"
        },
        "id": "5GHMJs7pZKjI",
        "outputId": "3bab2328-2b0b-4a2c-f450-702128c3038b"
      },
      "execution_count": null,
      "outputs": [
        {
          "output_type": "stream",
          "name": "stdout",
          "text": [
            "연봉1000000000\n",
            "당신의 연봉: 1000000000 실 수령액: 615940000.0\n"
          ]
        }
      ]
    },
    {
      "cell_type": "code",
      "source": [
        "50000000*0.15-(14000000*0.09)\n",
        "88000000*0.24-(14000000*0.18+36000000*0.09)"
      ],
      "metadata": {
        "colab": {
          "base_uri": "https://localhost:8080/"
        },
        "id": "mBHotaPQdM1m",
        "outputId": "a15651c6-3d2d-475d-8958-5ba19068d457"
      },
      "execution_count": null,
      "outputs": [
        {
          "output_type": "execute_result",
          "data": {
            "text/plain": [
              "15360000.0"
            ]
          },
          "metadata": {},
          "execution_count": 131
        }
      ]
    },
    {
      "cell_type": "code",
      "source": [
        "annual_income=int(input(\"연봉을 입력하시오:\"))\n",
        "tax=0.0\n",
        "income_interval=[14000000,50000000,88000000,150000000,300000000,500000000,1000000000]\n",
        "tax_rate=[0.06,0.15,0.24,0.35,0.38,0.40,0.42,0.45]\n",
        "subtract_money=[0,1260000,5760000,15440000,19940000,25940000,35940000,65940000]\n",
        "if annual_income<income_interval[0]:\n",
        "  tax=annual_income*tax_rate[0]-subtract_money[0]\n",
        "elif annual_income<income_interval[1]:\n",
        "  tax=annual_income*tax_rate[1]-subtract_money[1]\n",
        "elif annual_income<income_interval[2]:\n",
        "  tax=annual_income*tax_rate[2]-subtract_money[2]\n",
        "elif annual_income<income_interval[3]:\n",
        "  tax=annual_income*tax_rate[3]-subtract_money[3]\n",
        "elif annual_income<income_interval[4]:\n",
        "  tax=annual_income*tax_rate[4]-subtract_money[4]\n",
        "elif annual_income<income_interval[5]:\n",
        "  tax=annual_income*tax_rate[5]-subtract_money[5]\n",
        "elif annual_income<income_interval[6]:\n",
        "  tax=annual_income*tax_rate[6]-subtract_money[6]\n",
        "else:\n",
        "  tax=annual_income*tax_rate[7]-subtract_money[7]"
      ],
      "metadata": {
        "colab": {
          "base_uri": "https://localhost:8080/"
        },
        "id": "cuBxS4f7eBSW",
        "outputId": "9b3205fe-a219-4f98-cad3-2073e731bee9"
      },
      "execution_count": null,
      "outputs": [
        {
          "name": "stdout",
          "output_type": "stream",
          "text": [
            "연봉을 입력하시오:10000000\n"
          ]
        }
      ]
    },
    {
      "cell_type": "code",
      "source": [
        "elements=['earth','air','fire','water']\n",
        "for i in elements:\n",
        "  print(i, end=\" \")"
      ],
      "metadata": {
        "colab": {
          "base_uri": "https://localhost:8080/"
        },
        "id": "WvHs9bjMgLZW",
        "outputId": "52eabbb7-4bad-4864-e291-a89c092b34f1"
      },
      "execution_count": null,
      "outputs": [
        {
          "output_type": "stream",
          "name": "stdout",
          "text": [
            "earth air fire water "
          ]
        }
      ]
    },
    {
      "cell_type": "code",
      "source": [
        "# 인덱스를 이용해서\n",
        "for i in range(len(elements)):\n",
        "  print(elements[i],end=\" \")"
      ],
      "metadata": {
        "colab": {
          "base_uri": "https://localhost:8080/"
        },
        "id": "7Z-JUcWYg7IT",
        "outputId": "053484bb-2b5b-4e1d-d611-e8fa1ef538b7"
      },
      "execution_count": null,
      "outputs": [
        {
          "output_type": "stream",
          "name": "stdout",
          "text": [
            "earth air fire water "
          ]
        }
      ]
    },
    {
      "cell_type": "code",
      "source": [
        "cart=[10,20,500,700,50,60]\n",
        "for item in cart:\n",
        "  if item>=500:\n",
        "    continue      # 모든 데이터 대상 일부를 뺄 때\n",
        "  print(item, end=\" \")"
      ],
      "metadata": {
        "colab": {
          "base_uri": "https://localhost:8080/"
        },
        "id": "WFPBPrLWhIed",
        "outputId": "4b3e7324-26f3-482f-a52e-46343ecdb3e7"
      },
      "execution_count": null,
      "outputs": [
        {
          "output_type": "stream",
          "name": "stdout",
          "text": [
            "10 20 50 60 "
          ]
        }
      ]
    },
    {
      "cell_type": "code",
      "source": [
        "# 원하는 값을 찾아을 때 break\n",
        "items=[1,5,7,9,11,15]\n",
        "# target=9\n",
        "target=int(input())\n",
        "for item in items:\n",
        "  if item==target:\n",
        "    print(f\"원하는 값 검색:{item}\")\n",
        "    break\n",
        "    print(f\"현재 확인값:{item}\")"
      ],
      "metadata": {
        "colab": {
          "base_uri": "https://localhost:8080/"
        },
        "id": "3Kn6ArNXhj_W",
        "outputId": "584a82ea-d172-42cf-970f-bd142796455a"
      },
      "execution_count": null,
      "outputs": [
        {
          "output_type": "stream",
          "name": "stdout",
          "text": [
            "11\n",
            "원하는 값 검색:11\n"
          ]
        }
      ]
    },
    {
      "cell_type": "code",
      "source": [
        "# range(start=0, stop, step=1)\n",
        "# default 매개 변수는 required 매개변수 뒤에 있어야 함\n",
        "# 만들 때 매개변수 갯수를 카운트 한 다음 1개가 들어오면 stop를 인식하게 만들어진 것\n",
        "print(list(range(10)))            # 최종값\n",
        "print(list(range(10,2)))  #xxxxxxxxxxx\n",
        "print(list(range(1,10)))          # 시작값, 최종값\n",
        "print(list(range(1,10,2)))        #\n",
        "print(list(range(10,1,-1)))\n",
        "print(list(range(1,11,-1)))#xxxxxxxxxxxx\n",
        "print(list(reversed(range(10))))"
      ],
      "metadata": {
        "colab": {
          "base_uri": "https://localhost:8080/"
        },
        "id": "2bRE5b8lh6fc",
        "outputId": "da4996ca-2433-4d66-f4b2-a84b822267db"
      },
      "execution_count": null,
      "outputs": [
        {
          "output_type": "stream",
          "name": "stdout",
          "text": [
            "[0, 1, 2, 3, 4, 5, 6, 7, 8, 9]\n",
            "[]\n",
            "[1, 2, 3, 4, 5, 6, 7, 8, 9]\n",
            "[1, 3, 5, 7, 9]\n",
            "[10, 9, 8, 7, 6, 5, 4, 3, 2]\n",
            "[]\n",
            "[9, 8, 7, 6, 5, 4, 3, 2, 1, 0]\n"
          ]
        }
      ]
    },
    {
      "cell_type": "code",
      "source": [
        "ra=range(4)\n",
        "ra=iter(ra)   # iterable\n",
        "next(ra)\n",
        "next(ra)\n",
        "next(ra)\n",
        "next(ra)\n",
        "#next(ra) # Stopiteration Error"
      ],
      "metadata": {
        "colab": {
          "base_uri": "https://localhost:8080/"
        },
        "id": "CTeN6f-blSFk",
        "outputId": "b457d41a-a6a5-4762-8e31-6ddae793e3a4"
      },
      "execution_count": null,
      "outputs": [
        {
          "output_type": "execute_result",
          "data": {
            "text/plain": [
              "3"
            ]
          },
          "metadata": {},
          "execution_count": 217
        }
      ]
    },
    {
      "cell_type": "code",
      "source": [
        "# 예외처리가 있는 이유: 프로그램은 항상 정상 작동해야한다.!\n",
        "ra=range(4)\n",
        "ra=iter(ra)\n",
        "print(ra)   # iterable 객체\n",
        "res=None    # 데이터가 없음을 명시적 지적\n",
        "while True:\n",
        "  try:\n",
        "    res=next(ra)\n",
        "    print(res)\n",
        "  except StopIteration :  # 정상종료\n",
        "      break"
      ],
      "metadata": {
        "colab": {
          "base_uri": "https://localhost:8080/"
        },
        "id": "Z2BkEao0migr",
        "outputId": "638fada7-70aa-4971-f8a2-6961c1bc062b"
      },
      "execution_count": null,
      "outputs": [
        {
          "output_type": "stream",
          "name": "stdout",
          "text": [
            "<range_iterator object at 0x7ab3ebb73cf0>\n",
            "0\n",
            "1\n",
            "2\n",
            "3\n"
          ]
        }
      ]
    },
    {
      "cell_type": "code",
      "source": [
        "# 정렬의 일반화\n",
        "print(sorted([7,1,2,6,0,3,2]))"
      ],
      "metadata": {
        "colab": {
          "base_uri": "https://localhost:8080/"
        },
        "id": "_43z8_Nhmx2i",
        "outputId": "ee8ec94c-d91d-44c3-a2aa-ddd7ba98ccd1"
      },
      "execution_count": null,
      "outputs": [
        {
          "output_type": "stream",
          "name": "stdout",
          "text": [
            "[0, 1, 2, 2, 3, 6, 7]\n"
          ]
        }
      ]
    },
    {
      "cell_type": "code",
      "source": [
        "my_list=['boddy','hadz','com']\n",
        "while my_list:  # [] 거짓\n",
        "  print(my_list.pop())   # 없으면 뒤에서 제거\n",
        "print(my_list)"
      ],
      "metadata": {
        "colab": {
          "base_uri": "https://localhost:8080/"
        },
        "id": "Yz1YM8ZZnkPa",
        "outputId": "7d60d807-4e5b-4a5d-cee1-5d144dbda174"
      },
      "execution_count": null,
      "outputs": [
        {
          "output_type": "stream",
          "name": "stdout",
          "text": [
            "com\n",
            "hadz\n",
            "boddy\n",
            "[]\n"
          ]
        }
      ]
    },
    {
      "cell_type": "code",
      "source": [
        "# 2중 for\n",
        "for x in range(2,10):\n",
        "  for y in range(2,10):\n",
        "    print(y,'*',x,'=',x*y,end=' ')\n",
        "  print()"
      ],
      "metadata": {
        "colab": {
          "base_uri": "https://localhost:8080/"
        },
        "id": "WdlBA7pon7Dj",
        "outputId": "8e156e33-5599-46f3-d755-63014b901e3b"
      },
      "execution_count": null,
      "outputs": [
        {
          "output_type": "stream",
          "name": "stdout",
          "text": [
            "2 * 2 = 4 3 * 2 = 6 4 * 2 = 8 5 * 2 = 10 6 * 2 = 12 7 * 2 = 14 8 * 2 = 16 9 * 2 = 18 \n",
            "2 * 3 = 6 3 * 3 = 9 4 * 3 = 12 5 * 3 = 15 6 * 3 = 18 7 * 3 = 21 8 * 3 = 24 9 * 3 = 27 \n",
            "2 * 4 = 8 3 * 4 = 12 4 * 4 = 16 5 * 4 = 20 6 * 4 = 24 7 * 4 = 28 8 * 4 = 32 9 * 4 = 36 \n",
            "2 * 5 = 10 3 * 5 = 15 4 * 5 = 20 5 * 5 = 25 6 * 5 = 30 7 * 5 = 35 8 * 5 = 40 9 * 5 = 45 \n",
            "2 * 6 = 12 3 * 6 = 18 4 * 6 = 24 5 * 6 = 30 6 * 6 = 36 7 * 6 = 42 8 * 6 = 48 9 * 6 = 54 \n",
            "2 * 7 = 14 3 * 7 = 21 4 * 7 = 28 5 * 7 = 35 6 * 7 = 42 7 * 7 = 49 8 * 7 = 56 9 * 7 = 63 \n",
            "2 * 8 = 16 3 * 8 = 24 4 * 8 = 32 5 * 8 = 40 6 * 8 = 48 7 * 8 = 56 8 * 8 = 64 9 * 8 = 72 \n",
            "2 * 9 = 18 3 * 9 = 27 4 * 9 = 36 5 * 9 = 45 6 * 9 = 54 7 * 9 = 63 8 * 9 = 72 9 * 9 = 81 \n"
          ]
        }
      ]
    },
    {
      "cell_type": "code",
      "source": [
        "# 두 수를 입력받아 숫자이면 합계를 내어 출력하고, 아니면 숫자가 아닌 경우가 있는지 확인\n",
        "num1=(input(''))\n",
        "num2=(input(''))\n",
        "\n",
        "if num1.isdigit()==True and num2.isdigit()==True:\n",
        "  num1=int(num1)\n",
        "  num2=int(num2)\n",
        "  print(num1+num2)\n",
        "elif num1.isdigit()==False or num2.isdigit()==False:\n",
        "  print('num1은 숫자인가? ',num1.isdigit())\n",
        "  print('num1은 숫자인가? ',num2.isdigit())"
      ],
      "metadata": {
        "colab": {
          "base_uri": "https://localhost:8080/"
        },
        "id": "IjE9pg5UpRaz",
        "outputId": "145b4565-a030-41ed-c153-04581e8661b3"
      },
      "execution_count": null,
      "outputs": [
        {
          "output_type": "stream",
          "name": "stdout",
          "text": [
            "10\n",
            "ㄷ\n",
            "num1은 숫자인가?  True\n",
            "num1은 숫자인가?  False\n"
          ]
        }
      ]
    },
    {
      "cell_type": "code",
      "source": [
        "# 과제\n",
        "# 3인분의 이름 국어 영어 수학 점수를 받아서 2차원list에 입력하고 합계와 평균을 구해 출력하시오\n",
        "# 학점도 구하세요\n",
        "# 최대한 simple하게\n",
        "sch=[['대한',100,100,100],['민국',90,90,90],['만세',80,80,80]]\n",
        "tot_1=sum(sch[0][1:])\n",
        "tot_2=sum(sch[1][1:])\n",
        "tot_3=sum(sch[2][1:])\n",
        "print('대한이의 총점:',tot_1)\n",
        "print('민국이의 총점:',tot_2)\n",
        "print('만세의 총점:',tot_3)\n",
        "avr_1=tot_1/3\n",
        "print(avr_1)"
      ],
      "metadata": {
        "colab": {
          "base_uri": "https://localhost:8080/"
        },
        "id": "hXy4dQitrowL",
        "outputId": "eb310fb4-d6bd-4021-be99-56b5cea29496"
      },
      "execution_count": null,
      "outputs": [
        {
          "output_type": "stream",
          "name": "stdout",
          "text": [
            "대한이의 총점: 300\n",
            "민국이의 총점: 270\n",
            "만세의 총점: 240\n",
            "100.0\n"
          ]
        }
      ]
    },
    {
      "cell_type": "code",
      "source": [
        "# 20231107_박지운_성"
      ],
      "metadata": {
        "id": "bwVcDVkZv2IA"
      },
      "execution_count": null,
      "outputs": []
    }
  ]
}