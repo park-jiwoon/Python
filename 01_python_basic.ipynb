{
  "nbformat": 4,
  "nbformat_minor": 0,
  "metadata": {
    "colab": {
      "provenance": []
    },
    "kernelspec": {
      "name": "python3",
      "display_name": "Python 3"
    },
    "language_info": {
      "name": "python"
    }
  },
  "cells": [
    {
      "cell_type": "code",
      "execution_count": null,
      "metadata": {
        "id": "zManS7S-v1-5",
        "colab": {
          "base_uri": "https://localhost:8080/"
        },
        "outputId": "ba6b8e02-25d9-4661-bf0a-e5f7ca30de45"
      },
      "outputs": [
        {
          "output_type": "stream",
          "name": "stdout",
          "text": [
            "10\n",
            "10\n",
            "주소값 대입 138509161087504\n",
            "138509161087504\n",
            "20\n",
            "10\n",
            "주소값 대입 138509161087824\n",
            "138509161087504\n"
          ]
        },
        {
          "output_type": "execute_result",
          "data": {
            "text/plain": [
              "(None, None)"
            ]
          },
          "metadata": {},
          "execution_count": 10
        }
      ],
      "source": [
        "a=10\n",
        "b=a\n",
        "print(a)\n",
        "print(b)\n",
        "print(\"주소값 대입\",id(a)),print(id(b))  # id=138509161087504 주소를 출력하라는 소리\n",
        "a=20        # 대입(heap -> 주소)\n",
        "print(a)    # print=a가 가리키는 주소의 데이터를 저장\n",
        "print(b)    # 10\n",
        "print(\"주소값 대입\",id(a)),print(id(b))\n"
      ]
    },
    {
      "cell_type": "code",
      "source": [
        "# python은 대소문자를 구분\n",
        "a=10\n",
        "A=20\n",
        "print(a)\n",
        "print(A)"
      ],
      "metadata": {
        "colab": {
          "base_uri": "https://localhost:8080/"
        },
        "id": "G7bBqgfoyUcH",
        "outputId": "2b067c7e-2714-4e09-ec5f-b16e3f31f6b6"
      },
      "execution_count": null,
      "outputs": [
        {
          "output_type": "stream",
          "name": "stdout",
          "text": [
            "10\n",
            "20\n"
          ]
        }
      ]
    },
    {
      "cell_type": "code",
      "source": [
        "# 입출력, 네트워크 등을 통해서 전송되는 데이터:문자열\n",
        "problem=input(\"수식을 입력하시요\")\n",
        "print(problem)\n",
        "print(int(problem))   # 수치만 가능\n",
        "print(eval(problem))  # eval 은 데이터 뿐만 아니라 수식 자체를 변환해줌 -> 숫자로 인식해서 받았음  수식연산자도 가능"
      ],
      "metadata": {
        "colab": {
          "base_uri": "https://localhost:8080/"
        },
        "id": "b8ySsdcaA-U2",
        "outputId": "44b06a77-e4e8-4591-f3d0-4bf706811978"
      },
      "execution_count": null,
      "outputs": [
        {
          "output_type": "stream",
          "name": "stdout",
          "text": [
            "수식을 입력하시요10+20\n",
            "10+20\n",
            "30\n"
          ]
        }
      ]
    },
    {
      "cell_type": "code",
      "source": [
        "print(int(\"2\"))\n",
        "print(float(\"23\"))\n",
        "print(eval(\"23\"))\n",
        "print(eval(\"23.5\"))\n",
        "x=5\n",
        "print(eval(\"23+(2*x)\"))  # x를 변수로 인식\n",
        "x=5.0\n",
        "print(eval(\"23+(2+x)\"))"
      ],
      "metadata": {
        "colab": {
          "base_uri": "https://localhost:8080/"
        },
        "id": "aMZNb9A5BKsT",
        "outputId": "a999474a-28ea-44e1-9422-5f9a955626a6"
      },
      "execution_count": null,
      "outputs": [
        {
          "output_type": "stream",
          "name": "stdout",
          "text": [
            "2\n",
            "23.0\n",
            "23\n",
            "23.5\n",
            "33\n",
            "30.0\n"
          ]
        }
      ]
    },
    {
      "cell_type": "code",
      "source": [
        "a=20\n",
        "print(a)\n",
        "type(a)  # 데이터 타입도 객체다 <class 'int'>\n",
        "print(type(a))\n",
        "type(a)\n",
        "# 입출력, 네트워크에서는 데이터가 바이트 형태로 송수신\n",
        "a.to_bytes(4,byteorder=\"little\") # b'\\n\\x00\\x00\\x00'    <= b 는 byte의 약자\n",
        "# x: 16진수"
      ],
      "metadata": {
        "colab": {
          "base_uri": "https://localhost:8080/"
        },
        "id": "N1wVuQHuCK30",
        "outputId": "9149d7ac-6982-4874-a138-da3616c3cba0"
      },
      "execution_count": null,
      "outputs": [
        {
          "output_type": "stream",
          "name": "stdout",
          "text": [
            "20\n",
            "<class 'int'>\n"
          ]
        },
        {
          "output_type": "execute_result",
          "data": {
            "text/plain": [
              "b'\\x14\\x00\\x00\\x00'"
            ]
          },
          "metadata": {},
          "execution_count": 172
        }
      ]
    },
    {
      "cell_type": "code",
      "source": [
        "number=20\n",
        "binary_number=hex(number)   # 16진수\n",
        "print(hex(number))\n",
        "binary_number=bin(number)  # 2 진수 변환 binary\n",
        "print(binary_number)"
      ],
      "metadata": {
        "colab": {
          "base_uri": "https://localhost:8080/"
        },
        "id": "Dwy0Cl9rC1SF",
        "outputId": "ab999794-6aa1-4456-e757-36e95b68cbac"
      },
      "execution_count": null,
      "outputs": [
        {
          "output_type": "stream",
          "name": "stdout",
          "text": [
            "0x14\n",
            "0b10100\n"
          ]
        }
      ]
    },
    {
      "cell_type": "code",
      "source": [
        "# string, integer, float   %s=%string     c# 방식\n",
        "print('My name %s i am from %s , %i. ' % ('AI','4차산업혁명',10))      # %s\n",
        "# 순서나 키워드에 의해서 매핑     # c방식\n",
        "print('My name is {1} and i am from {0} and i like {thing}'.format('딥러닝','AI',thing='cats'))   # 번호가 주어지면 번호에 맞는 인덱스로\n",
        "name='박지운'\n",
        "age=20\n",
        "print(f\"이름은 {name} 나이는 {age}\")   # 데이터 타입 지정없이 변수로 출력"
      ],
      "metadata": {
        "colab": {
          "base_uri": "https://localhost:8080/"
        },
        "id": "w4mqKt7kEUOT",
        "outputId": "3d695434-cb97-4e82-a7fd-fd4beb150696"
      },
      "execution_count": null,
      "outputs": [
        {
          "output_type": "stream",
          "name": "stdout",
          "text": [
            "My name AI i am from 4차산업혁명 , 10. \n",
            "My name is AI and i am from 딥러닝 and i like cats\n",
            "이름은 박지운 나이는 20\n"
          ]
        }
      ]
    },
    {
      "cell_type": "code",
      "source": [
        "number=123.45678\n",
        "formatted_number=f\"{number:.2f}\"   # 소수점 두번째 자리까지 반올림\n",
        "print(formatted_number)"
      ],
      "metadata": {
        "colab": {
          "base_uri": "https://localhost:8080/"
        },
        "id": "N7JErea_F2OF",
        "outputId": "bac80994-a87a-42df-c219-06eb58230386"
      },
      "execution_count": null,
      "outputs": [
        {
          "output_type": "stream",
          "name": "stdout",
          "text": [
            "123.46\n"
          ]
        }
      ]
    },
    {
      "cell_type": "code",
      "source": [
        "fullName=input(\"이름을 입력하세요:\")  # 박 지운\n",
        "print(type(fullName))\n",
        "n=fullName.rfind(\" \")   #reverse find  = 뒤에서부터 찾음\n",
        "\n",
        "print(fullName[0])\n",
        "print(fullName[1])\n",
        "print(fullName[2])\n",
        "print(n)  # 인덱스를 0부터 사용함을 알수가 있다\n",
        "print(\"이름:\",fullName[n+1:])  # : R에서는 에러, 없으면 끝까지\n",
        "print(\"성(s):\",fullName[:n])   # : 앞에 없으면 처음부터"
      ],
      "metadata": {
        "colab": {
          "base_uri": "https://localhost:8080/"
        },
        "id": "cR9HhGMIGULT",
        "outputId": "39134a69-7d7c-4e0d-b00f-d96e021bce98"
      },
      "execution_count": null,
      "outputs": [
        {
          "output_type": "stream",
          "name": "stdout",
          "text": [
            "이름을 입력하세요:박 지운\n",
            "<class 'str'>\n",
            "박\n",
            " \n",
            "지\n",
            "1\n",
            "이름: 지운\n",
            "성(s): 박\n"
          ]
        }
      ]
    },
    {
      "cell_type": "code",
      "source": [
        "s='korea'\n",
        "print(s+s)\n",
        "print(s*3)    # 반복\n",
        "print(s[0:])  # 0번 인덱스부터 끝까지\n",
        "print(s[4])   # 4번 인덱스\n",
        "print(s[-1])  # 뒤에서 시작   # R에서는 -는 제외였음\n",
        "print(s[1:3])\n",
        "print(s[-2:])\n",
        "print(s[-2:5])\n",
        "print(s[3:-1])\n",
        "print(len(s))\n",
        "s.split('r')   # 결과는 리스트로\n",
        "# []:리스트, {}:dict, ():tuple"
      ],
      "metadata": {
        "colab": {
          "base_uri": "https://localhost:8080/"
        },
        "id": "O9MjIXUTHZxY",
        "outputId": "da3c7115-0a91-4d60-9b60-f57e3e8a7d48"
      },
      "execution_count": null,
      "outputs": [
        {
          "output_type": "stream",
          "name": "stdout",
          "text": [
            "koreakorea\n",
            "koreakoreakorea\n",
            "korea\n",
            "a\n",
            "a\n",
            "or\n",
            "ea\n",
            "ea\n",
            "e\n",
            "5\n"
          ]
        },
        {
          "output_type": "execute_result",
          "data": {
            "text/plain": [
              "['ko', 'ea']"
            ]
          },
          "metadata": {},
          "execution_count": 36
        }
      ]
    },
    {
      "cell_type": "code",
      "source": [
        "t='Seoul Incheon won'.split(' ')\n",
        "print(t)      # 리스트로 출력\n",
        "','.join(t)   # ,로 t에 들어있는 데이터를 결합시킴  => 문자열로 출력"
      ],
      "metadata": {
        "colab": {
          "base_uri": "https://localhost:8080/",
          "height": 54
        },
        "id": "HuEKKgnAJO1E",
        "outputId": "949e7da2-4bdc-46a1-b733-52a632d49522"
      },
      "execution_count": null,
      "outputs": [
        {
          "output_type": "stream",
          "name": "stdout",
          "text": [
            "['Seoul', 'Incheon', 'won']\n"
          ]
        },
        {
          "output_type": "execute_result",
          "data": {
            "text/plain": [
              "'Seoul,Incheon,won'"
            ],
            "application/vnd.google.colaboratory.intrinsic+json": {
              "type": "string"
            }
          },
          "metadata": {},
          "execution_count": 173
        }
      ]
    },
    {
      "cell_type": "code",
      "source": [
        "s='kOrea'\n",
        "print(s.capitalize())      # 첫글자를 대문자로\n",
        "print(s.find('r'))         # r 위치 앞에서부터\n",
        "print(s.count('re'))       # re 갯수\n",
        "print(s.isalpha())         # check 함수들  알파벳이냐?-----------------T/F로 반환\n",
        "print(s.isdigit())         # 숫자인지?\n",
        "print('0123'.isdigit())    # 0123이 숫자냐?  # 순수하게 숫자로만 구성되어야 한다\n",
        "print(s.replace('r','R'))  # r=>R\n",
        "print(s.startswith('K'))   # k로 시작하냐?\n",
        "print(s.endswith('a'))     # a로 끝나냐?\n",
        "print(s.upper())   # 대문자화\n",
        "s.lower()   # 소문자화"
      ],
      "metadata": {
        "colab": {
          "base_uri": "https://localhost:8080/",
          "height": 219
        },
        "id": "zM0sCWvbKIEb",
        "outputId": "00dcbe15-bc33-4987-cc46-4ff8ae6a9632"
      },
      "execution_count": null,
      "outputs": [
        {
          "output_type": "stream",
          "name": "stdout",
          "text": [
            "Korea\n",
            "2\n",
            "1\n",
            "True\n",
            "False\n",
            "True\n",
            "kORea\n",
            "False\n",
            "True\n",
            "KOREA\n"
          ]
        },
        {
          "output_type": "execute_result",
          "data": {
            "text/plain": [
              "'korea'"
            ],
            "application/vnd.google.colaboratory.intrinsic+json": {
              "type": "string"
            }
          },
          "metadata": {},
          "execution_count": 184
        }
      ]
    },
    {
      "cell_type": "code",
      "source": [
        "# str객체 ,int 객체\n",
        "ex= str()\n",
        "print(ex)\n",
        "type(ex)"
      ],
      "metadata": {
        "colab": {
          "base_uri": "https://localhost:8080/"
        },
        "id": "3DEzPcBhOTEK",
        "outputId": "c6ccae1e-47de-4cb3-9f33-104e79e7e16b"
      },
      "execution_count": null,
      "outputs": [
        {
          "output_type": "stream",
          "name": "stdout",
          "text": [
            "\n"
          ]
        },
        {
          "output_type": "execute_result",
          "data": {
            "text/plain": [
              "str"
            ]
          },
          "metadata": {},
          "execution_count": 47
        }
      ]
    },
    {
      "cell_type": "code",
      "source": [
        "f=1.23\n",
        "g=str(f)    # 초기화 , 캐스팅\n",
        "h=repr(f)   # 숫자가 더 정교하다\n",
        "print(g,\"    \",h)"
      ],
      "metadata": {
        "colab": {
          "base_uri": "https://localhost:8080/"
        },
        "id": "zDXjlR0pOtdM",
        "outputId": "a3fec126-80d0-42c0-8e17-05a9a87d52a9"
      },
      "execution_count": null,
      "outputs": [
        {
          "output_type": "stream",
          "name": "stdout",
          "text": [
            "1.23      1.23\n"
          ]
        }
      ]
    },
    {
      "cell_type": "code",
      "source": [
        "# 컴퓨터는 계산기\n",
        "# 연산자 : 산술연산자 , 수학연산자 (math:삼각함수, 지수함수, 로그함수)\n",
        "a=3\n",
        "b=4\n",
        "\n",
        "print(a+b,a-b,a*b,a/b)  # 가감승제\n",
        "print(a-b)\n",
        "print(a*b)\n",
        "print(a%b)        # 나머지 연산자\n",
        "print(7 / 4)      # 나누기\n",
        "print(7//4)       # 몫"
      ],
      "metadata": {
        "colab": {
          "base_uri": "https://localhost:8080/"
        },
        "id": "SYC3_Hn0O0HC",
        "outputId": "84c68020-2722-498c-ca3c-3d770d078978"
      },
      "execution_count": null,
      "outputs": [
        {
          "output_type": "stream",
          "name": "stdout",
          "text": [
            "7 -1 12 0.75\n",
            "-1\n",
            "12\n",
            "3\n",
            "1.75\n",
            "1\n"
          ]
        }
      ]
    },
    {
      "cell_type": "code",
      "source": [
        "# iterable ( 반복되는 것 : 자료구조 : 디폴트 자료구조 - list)\n",
        "# sum(1,3)"
      ],
      "metadata": {
        "colab": {
          "base_uri": "https://localhost:8080/",
          "height": 184
        },
        "id": "PfvIKtvOQB9i",
        "outputId": "18165a7c-777c-4de6-c413-e7d3a66399f5"
      },
      "execution_count": null,
      "outputs": [
        {
          "output_type": "error",
          "ename": "TypeError",
          "evalue": "ignored",
          "traceback": [
            "\u001b[0;31m---------------------------------------------------------------------------\u001b[0m",
            "\u001b[0;31mTypeError\u001b[0m                                 Traceback (most recent call last)",
            "\u001b[0;32m<ipython-input-51-92f6ec501e52>\u001b[0m in \u001b[0;36m<cell line: 1>\u001b[0;34m()\u001b[0m\n\u001b[0;32m----> 1\u001b[0;31m \u001b[0msum\u001b[0m\u001b[0;34m(\u001b[0m\u001b[0;36m1\u001b[0m\u001b[0;34m,\u001b[0m\u001b[0;36m3\u001b[0m\u001b[0;34m)\u001b[0m\u001b[0;34m\u001b[0m\u001b[0;34m\u001b[0m\u001b[0m\n\u001b[0m",
            "\u001b[0;31mTypeError\u001b[0m: 'int' object is not iterable"
          ]
        }
      ]
    },
    {
      "cell_type": "code",
      "source": [
        "print(\"sum([1,2,3]):\",sum([1,2,3]))  # 단일리스트로만\n",
        "print('min([1,2,3]):',min([1,2,3]))\n",
        "print('abs(-11):',abs(-11))\n",
        "print(\"pow(2,10):\",pow(2,10))  # 2^10\n",
        "print(\"round(3.141592):\",round(3.141592))\n",
        "print('round(3.141592):', round(3.141592,2))  # 자바와 다르게 2번째 :매개변수 2번째 자리까지 표현"
      ],
      "metadata": {
        "colab": {
          "base_uri": "https://localhost:8080/"
        },
        "id": "-SbY8EuhQDbZ",
        "outputId": "e4d3c997-9705-4673-e763-0ae6c6071c76"
      },
      "execution_count": null,
      "outputs": [
        {
          "output_type": "stream",
          "name": "stdout",
          "text": [
            "sum([1,2,3]): 6\n",
            "min([1,2,3]): 1\n",
            "abs(-11): 11\n",
            "pow(2,10): 1024\n",
            "round(3.141592): 3\n",
            "round(3.141592): 3.14\n"
          ]
        }
      ]
    },
    {
      "cell_type": "code",
      "source": [
        "# 리스트 처리\n",
        "li=[4,7,8]\n",
        "lj=[5,6,7]\n",
        "# concatenate 결합\n",
        "print(li+lj)    # R하고 다름(R= 요소끼리 더해줌 ) / 파이선은 요소를 합쳐줌 : 분석 ( 벡터와 다름)\n",
        "print(sum(li))\n",
        "li*3   # 반복 = 문자열 연산하고 같다"
      ],
      "metadata": {
        "colab": {
          "base_uri": "https://localhost:8080/"
        },
        "id": "-JZbY36IRVsg",
        "outputId": "11a0f921-7910-4010-aed7-fda41f6d5aa3"
      },
      "execution_count": null,
      "outputs": [
        {
          "output_type": "stream",
          "name": "stdout",
          "text": [
            "[4, 7, 8, 5, 6, 7]\n",
            "19\n"
          ]
        },
        {
          "output_type": "execute_result",
          "data": {
            "text/plain": [
              "[4, 7, 8, 4, 7, 8, 4, 7, 8]"
            ]
          },
          "metadata": {},
          "execution_count": 59
        }
      ]
    },
    {
      "cell_type": "code",
      "source": [
        "num1= input(\"정수를 입력하시오:\")   # 입출력시 문자열\n",
        "num2= input(\"정수를 입력하시오:\")\n",
        "hab=int(num1)+ int(num2)\n",
        "quotient=hab//2\n",
        "remainder=hab%2\n",
        "print('입력된 수를 2로 나눈 결과 몫=',quotient, \"나머지=\", remainder)\n",
        "if remainder==0:   # 괄호가 없어도 사용이 가능    # {} indent 들여쓰기가 블록\n",
        "  print(\"짝수입니다\")\n",
        "else:\n",
        "    print(\"홀수입니다\")"
      ],
      "metadata": {
        "colab": {
          "base_uri": "https://localhost:8080/"
        },
        "id": "XUHS9zpNR-XC",
        "outputId": "bc38f0ef-781a-4752-892a-75bf8e2d6018"
      },
      "execution_count": null,
      "outputs": [
        {
          "output_type": "stream",
          "name": "stdout",
          "text": [
            "정수를 입력하시오:12\n",
            "정수를 입력하시오:12\n",
            "입력된 수를 2로 나눈 결과 몫= 12 나머지= 0\n",
            "짝수입니다\n"
          ]
        }
      ]
    },
    {
      "cell_type": "code",
      "source": [
        "# 자바에서 전역변수는 없고, 변수 하나라도 지정하려면 class로\n",
        "# python은 객체지향언어이면서도 전역변수가 존재한다\n",
        "x=300   # 자체도 클래스\n",
        "def myfunc():     # x가 전역변수로 되어있기 때문에 x가 호출\n",
        "  #x=200   # 입력시 지역변수가 우선하기 때문에 200이 출력된다\n",
        "  print(x)\n",
        "myfunc()\n",
        "print(x)\n"
      ],
      "metadata": {
        "colab": {
          "base_uri": "https://localhost:8080/"
        },
        "id": "yxu8h67DSnFK",
        "outputId": "47c0f04d-3bd0-4699-95b5-9a437a63b0a7"
      },
      "execution_count": null,
      "outputs": [
        {
          "output_type": "stream",
          "name": "stdout",
          "text": [
            "200\n",
            "300\n"
          ]
        }
      ]
    },
    {
      "cell_type": "code",
      "source": [
        "# 문제 : 어떤 정수를 입력받아 0:가위 , 2: 바위,  3:보 를 출력하는 프로그램작성\n",
        "select=int(input('정수를 입력하시오:'))%3\n",
        "if select ==0:\n",
        "  print('가위')\n",
        "if select ==1:\n",
        "  print('가위')\n",
        "if select ==2:\n",
        "  print('보')"
      ],
      "metadata": {
        "colab": {
          "base_uri": "https://localhost:8080/"
        },
        "id": "xMShbKblTyJR",
        "outputId": "733eac52-d017-488b-fe84-95756fc755b6"
      },
      "execution_count": null,
      "outputs": [
        {
          "output_type": "stream",
          "name": "stdout",
          "text": [
            "정수를 입력하시오:1\n",
            "가위\n"
          ]
        }
      ]
    },
    {
      "cell_type": "code",
      "source": [
        "if select ==0:\n",
        "  print('가위')\n",
        "elif select ==1: # else if\n",
        "  print('바위')\n",
        "elif select ==2:\n",
        "  print('보')"
      ],
      "metadata": {
        "colab": {
          "base_uri": "https://localhost:8080/"
        },
        "id": "8GbgvMD6V6Qh",
        "outputId": "945c68b0-3e2b-465d-fd83-b3a009b991a1"
      },
      "execution_count": null,
      "outputs": [
        {
          "output_type": "stream",
          "name": "stdout",
          "text": [
            "바위\n"
          ]
        }
      ]
    },
    {
      "cell_type": "code",
      "source": [
        "a=20\n",
        "b=10\n",
        "print(a>b)\n",
        "c=a>10 and b<50\n",
        "print(c)\n",
        "c=10 < a <50\n",
        "print (c)"
      ],
      "metadata": {
        "colab": {
          "base_uri": "https://localhost:8080/"
        },
        "id": "ErN7ujWbWbzy",
        "outputId": "370a4a94-ef9e-41e3-c6d4-dcc85d4325f6"
      },
      "execution_count": null,
      "outputs": [
        {
          "output_type": "stream",
          "name": "stdout",
          "text": [
            "True\n",
            "True\n",
            "True\n"
          ]
        }
      ]
    },
    {
      "cell_type": "code",
      "source": [
        "# 문제\n",
        "x=5\n",
        "y=6\n",
        "# temp=x\n",
        "#x=y\n",
        "#y=temp\n",
        "x,y=y,x   # python 에서는 멀티리턴(multi return)이 가능하다   [함수도 동일]\n",
        "print(x,y)\n",
        "t=y,x\n",
        "print(t)\n",
        "print(type(t))   # # tuple   함수에서 리턴할 땐 튜플로, 순서가 있고 수정이 불가능한 데이터타입\n",
        "# tuple 는 리스트하고 동일 -> 수정이나 변화가 안됨"
      ],
      "metadata": {
        "colab": {
          "base_uri": "https://localhost:8080/"
        },
        "id": "xot0xOY2WjsH",
        "outputId": "fd5c1011-069e-440a-abbc-cc8ff62fa753"
      },
      "execution_count": null,
      "outputs": [
        {
          "output_type": "stream",
          "name": "stdout",
          "text": [
            "6 5\n",
            "(5, 6)\n",
            "<class 'tuple'>\n"
          ]
        }
      ]
    },
    {
      "cell_type": "code",
      "source": [
        "a=[1,2,3,4,5]\n",
        "b=a[0:2]      # 리스트 인덱싱 결과는 리스트   # 마지막은 제외\n",
        "print(b)\n",
        "print(type(b))"
      ],
      "metadata": {
        "colab": {
          "base_uri": "https://localhost:8080/"
        },
        "id": "_UKzwSNRW_Aw",
        "outputId": "1e4bcd1d-4aea-4147-f8db-4285c24f5149"
      },
      "execution_count": null,
      "outputs": [
        {
          "output_type": "stream",
          "name": "stdout",
          "text": [
            "[1, 2]\n",
            "<class 'list'>\n"
          ]
        }
      ]
    },
    {
      "cell_type": "code",
      "source": [
        "# 변수는 어떤 데이터 타입이던지 다 담을 수 있음\n",
        "# 변수는 주소를 담기 때문에\n",
        "# 이렇다 그래서 모든 데이터 타입간에 연산이 가능한 것은 아니다.\n",
        "# 캐스팅: 암묵적캐스팅. 명시적캐스팅\n",
        "a=[1,2,3]\n",
        "b=str(a[2])+\"hi\"    # 자바하고 다른 점: 암묵적 캐스팅이 안됨\n",
        "print(b)      # 연산할 때는 데이터 타입을 맞춰줘야함"
      ],
      "metadata": {
        "colab": {
          "base_uri": "https://localhost:8080/"
        },
        "id": "IYkKyV0gYwXx",
        "outputId": "a480730b-ffd0-4e82-cdfa-35ef38880f32"
      },
      "execution_count": null,
      "outputs": [
        {
          "output_type": "stream",
          "name": "stdout",
          "text": [
            "3hi\n"
          ]
        }
      ]
    },
    {
      "cell_type": "code",
      "source": [
        "# R 의 vector/matrix는 동질적\n",
        "# 파이썬의 리스트에 저장되는것은 데이터가 아니라 주소\n",
        "# 파이썬의 리스트는 이질적이다\n",
        "a=[1,2,3,['a','b','c'],4,5]     # 2차원에서는 ['a','b','c']를 하나의 인덱스(주소)로 저장\n",
        "print(a[2:5])\n",
        "print(a[3][:2]) # 리스트 안의 리스트 에서 :2"
      ],
      "metadata": {
        "colab": {
          "base_uri": "https://localhost:8080/"
        },
        "id": "HoVHCcT2Y0Zv",
        "outputId": "e1a06e08-dcc3-48cc-eb5e-9468c1d17739"
      },
      "execution_count": null,
      "outputs": [
        {
          "output_type": "stream",
          "name": "stdout",
          "text": [
            "[3, ['a', 'b', 'c'], 4]\n",
            "['a', 'b']\n"
          ]
        }
      ]
    },
    {
      "cell_type": "code",
      "source": [
        "a=[1,2,['a','b',['Life','is']]]  # 3차원\n",
        "print(a[0])\n",
        "print(a[2][2][0])"
      ],
      "metadata": {
        "colab": {
          "base_uri": "https://localhost:8080/"
        },
        "id": "xrlQ_tMgdK0a",
        "outputId": "2b3ac75e-554c-4f24-ee06-e4f5607997db"
      },
      "execution_count": null,
      "outputs": [
        {
          "output_type": "stream",
          "name": "stdout",
          "text": [
            "1\n",
            "Life\n"
          ]
        }
      ]
    },
    {
      "cell_type": "code",
      "source": [
        "a=[1,2,3]\n",
        "a[2]=4\n",
        "print(a)\n",
        "a[1:2]=['a','b','c']    # 범위를 주니까  풀려서 들어감 extend\n",
        "print(a)\n",
        "a[2]=['하나','둘','셋'] # 2 인덱스 replace, 하나로 줄 경우  묶여서 들어감  append\n",
        "a"
      ],
      "metadata": {
        "colab": {
          "base_uri": "https://localhost:8080/"
        },
        "id": "ZSpmK5KDdxuP",
        "outputId": "e21fdfe1-1e32-4e27-d009-fb7ea5d6af6f"
      },
      "execution_count": null,
      "outputs": [
        {
          "output_type": "stream",
          "name": "stdout",
          "text": [
            "[1, 2, 4]\n",
            "[1, 'a', 'b', 'c', 4]\n"
          ]
        },
        {
          "output_type": "execute_result",
          "data": {
            "text/plain": [
              "[1, 'a', ['하나', '둘', '셋'], 'c', 4]"
            ]
          },
          "metadata": {},
          "execution_count": 193
        }
      ]
    },
    {
      "cell_type": "code",
      "source": [
        "a=[1,2,3,4,5]\n",
        "b=range(1,6,1) # 1~5까지 1씩 증가    파이썬은 마지막은 제외하여서 5까지\n",
        "# 파이썬에는 for(int i=0; i<10 , i++) 이 없다: for in (객체)  , 데이터가 넘어오면 객체가 넘어옴\n",
        "print(b)\n",
        "print([b])      # 리스트로 변환해주는듯?\n",
        "print(list(b))  # casting"
      ],
      "metadata": {
        "colab": {
          "base_uri": "https://localhost:8080/"
        },
        "id": "d6s_JdjRefxX",
        "outputId": "8d987bc9-0d45-4ec3-f423-b6cb9ea55feb"
      },
      "execution_count": null,
      "outputs": [
        {
          "output_type": "stream",
          "name": "stdout",
          "text": [
            "range(1, 6)\n",
            "[range(1, 6)]\n",
            "[1, 2, 3, 4, 5]\n"
          ]
        }
      ]
    },
    {
      "cell_type": "code",
      "source": [
        "mat=[[1,2,3],[4,5,6],[7,8,9]]\n",
        "print(mat)\n",
        "mat=[[0]*4]*3   # list, str에서는 *는 반복\n",
        "print(mat)\n",
        "mat[0][0]=100   # 주소가 복사가 되므로 조심할 것\n",
        "print(mat)"
      ],
      "metadata": {
        "colab": {
          "base_uri": "https://localhost:8080/"
        },
        "id": "O0VvtNVrf1kP",
        "outputId": "d693644f-49f1-44c5-ec8f-005c300ece5e"
      },
      "execution_count": null,
      "outputs": [
        {
          "output_type": "stream",
          "name": "stdout",
          "text": [
            "[[1, 2, 3], [4, 5, 6], [7, 8, 9]]\n",
            "[[0, 0, 0, 0], [0, 0, 0, 0], [0, 0, 0, 0]]\n",
            "[[100, 0, 0, 0], [100, 0, 0, 0], [100, 0, 0, 0]]\n"
          ]
        }
      ]
    },
    {
      "cell_type": "code",
      "source": [
        "# 검색방법\n",
        "streaming=['netflix','julu','disney+','appletv+']\n",
        "index=streaming.index('disney+')\n",
        "print(index)    # 인덱스 번호가 나옴\n",
        "streaming[2]    # 값이 나옴"
      ],
      "metadata": {
        "colab": {
          "base_uri": "https://localhost:8080/",
          "height": 54
        },
        "id": "NT8EivnYgCQA",
        "outputId": "8cc63239-0465-4810-faf4-1d5cf7bdb85b"
      },
      "execution_count": null,
      "outputs": [
        {
          "output_type": "stream",
          "name": "stdout",
          "text": [
            "2\n"
          ]
        },
        {
          "output_type": "execute_result",
          "data": {
            "text/plain": [
              "'disney+'"
            ],
            "application/vnd.google.colaboratory.intrinsic+json": {
              "type": "string"
            }
          },
          "metadata": {},
          "execution_count": 112
        }
      ]
    },
    {
      "cell_type": "code",
      "source": [
        "# 삭제\n",
        "if 'disney+' in streaming:      # disney+ 가 있으면 disney+ 삭제\n",
        "  streaming.remove('disney+')   # 문자열함수에 remove\n",
        "print(streaming)\n",
        "if streaming:                   # 파이썬에서는 new를 사용하지 않음 : 전부가 객체이기 때문에\n",
        "  del(streaming[0])             # del 객체 메모리 해제(모두가 포인터이기 때문에)\n",
        "print(streaming)"
      ],
      "metadata": {
        "colab": {
          "base_uri": "https://localhost:8080/"
        },
        "id": "3B13qqevhOiW",
        "outputId": "45931802-f3ce-48cb-91a7-5b1e5a4fbb93"
      },
      "execution_count": null,
      "outputs": [
        {
          "output_type": "stream",
          "name": "stdout",
          "text": [
            "['julu', 'appletv+']\n",
            "['appletv+']\n"
          ]
        }
      ]
    },
    {
      "cell_type": "code",
      "source": [
        "print(streaming[0])\n",
        "streaming.append('티빙')\n",
        "streaming.pop(0)\n",
        "print(streaming)"
      ],
      "metadata": {
        "colab": {
          "base_uri": "https://localhost:8080/"
        },
        "id": "P-D6rJzViB0_",
        "outputId": "142cfda2-8a58-4594-dde5-0a8c2f877bcd"
      },
      "execution_count": null,
      "outputs": [
        {
          "output_type": "stream",
          "name": "stdout",
          "text": [
            "티빙\n",
            "['티빙']\n"
          ]
        }
      ]
    },
    {
      "cell_type": "code",
      "source": [
        "# 문제\n",
        "streaming=['netflix','hula','disney+','appletv+']\n",
        "print(streaming)"
      ],
      "metadata": {
        "colab": {
          "base_uri": "https://localhost:8080/"
        },
        "id": "PGsznHOFiZBO",
        "outputId": "a14a7657-9607-4c41-e5bd-db8cbfb361f2"
      },
      "execution_count": null,
      "outputs": [
        {
          "output_type": "stream",
          "name": "stdout",
          "text": [
            "['netflix', 'hula', 'disney+', 'appletv+']\n"
          ]
        }
      ]
    },
    {
      "cell_type": "code",
      "source": [
        "#- 다음 데이터에서 hula를 검색해 인덱스를 출력하시오\n",
        "# 명령어는 변수로 사용하면 안됨\n",
        "index=streaming.index('hula')\n",
        "print(index)\n",
        "streaming[index]"
      ],
      "metadata": {
        "colab": {
          "base_uri": "https://localhost:8080/",
          "height": 54
        },
        "id": "EubzktDti3dO",
        "outputId": "2b3a8b47-b472-4345-90af-d217cc372fbd"
      },
      "execution_count": null,
      "outputs": [
        {
          "output_type": "stream",
          "name": "stdout",
          "text": [
            "1\n"
          ]
        },
        {
          "output_type": "execute_result",
          "data": {
            "text/plain": [
              "'hula'"
            ],
            "application/vnd.google.colaboratory.intrinsic+json": {
              "type": "string"
            }
          },
          "metadata": {},
          "execution_count": 194
        }
      ]
    },
    {
      "cell_type": "code",
      "source": [
        "#- 다음 데이터에서 '다람쥐'를 추가하시오(C)\n",
        "streaming.append('다람쥐')\n",
        "print(streaming)"
      ],
      "metadata": {
        "colab": {
          "base_uri": "https://localhost:8080/"
        },
        "id": "o5E1K-D6kg9n",
        "outputId": "096d27b4-f4c4-49ed-bc33-e938bfb8e514"
      },
      "execution_count": null,
      "outputs": [
        {
          "output_type": "stream",
          "name": "stdout",
          "text": [
            "['netflix', 'hula', 'disney+', 'appletv+', '다람쥐']\n"
          ]
        }
      ]
    },
    {
      "cell_type": "code",
      "source": [
        "#- 다음 데이터의 인덱스 1:3까지 출력하시오(R)\n",
        "streaming[1:4]"
      ],
      "metadata": {
        "colab": {
          "base_uri": "https://localhost:8080/"
        },
        "id": "DrZIsC9-khHV",
        "outputId": "8c0edccf-eaf1-42ee-9860-cbc4d13bb3f2"
      },
      "execution_count": null,
      "outputs": [
        {
          "output_type": "execute_result",
          "data": {
            "text/plain": [
              "['hula', 'disney+', 'appletv+']"
            ]
          },
          "metadata": {},
          "execution_count": 152
        }
      ]
    },
    {
      "cell_type": "code",
      "source": [
        "#- 다음 데이터의 disney+를 찾아서 disney land 로 변경하시오 (U)\n",
        "index=streaming.index('disney+')\n",
        "print(index)\n",
        "streaming[2]='disney land'\n",
        "print(streaming)"
      ],
      "metadata": {
        "colab": {
          "base_uri": "https://localhost:8080/"
        },
        "id": "uAe-0vxOkhPl",
        "outputId": "ef0229d5-3148-4050-e2dc-a95de4d2c727"
      },
      "execution_count": null,
      "outputs": [
        {
          "output_type": "stream",
          "name": "stdout",
          "text": [
            "2\n",
            "['netflix', 'hula', 'disney land', 'appletv+', '다람쥐']\n"
          ]
        }
      ]
    },
    {
      "cell_type": "code",
      "source": [
        "#- 다음 데이터의 앞에서 첫 번째 데이터를 삭제하시오(D)\n",
        "if streaming:\n",
        "  del streaming[0]\n",
        "print(streaming)\n",
        "# remove,del은 지우기만\n",
        "# pop는 지운 데이터를 반환\n",
        "streaming.pop(0)"
      ],
      "metadata": {
        "colab": {
          "base_uri": "https://localhost:8080/",
          "height": 54
        },
        "id": "lBKavTf7ktFo",
        "outputId": "4e205537-3fdc-4296-c3c6-0edfa144c9d6"
      },
      "execution_count": null,
      "outputs": [
        {
          "output_type": "stream",
          "name": "stdout",
          "text": [
            "['disney+', 'appletv+']\n"
          ]
        },
        {
          "output_type": "execute_result",
          "data": {
            "text/plain": [
              "'disney+'"
            ],
            "application/vnd.google.colaboratory.intrinsic+json": {
              "type": "string"
            }
          },
          "metadata": {},
          "execution_count": 154
        }
      ]
    },
    {
      "cell_type": "code",
      "source": [
        "#- 다음 데이터의 hula를 삭제하시오(D)\n",
        "if  'hula' in streaming:\n",
        "  streaming.remove('hula')\n",
        "del(streaming[0])\n",
        "print(streaming)"
      ],
      "metadata": {
        "colab": {
          "base_uri": "https://localhost:8080/"
        },
        "id": "nfu5U_CGktM1",
        "outputId": "ce9a362b-8891-4c9f-e56a-d3d872669afe"
      },
      "execution_count": null,
      "outputs": [
        {
          "output_type": "stream",
          "name": "stdout",
          "text": [
            "['appletv+']\n"
          ]
        }
      ]
    },
    {
      "cell_type": "code",
      "source": [
        "cities=['seoul','incheon','suwon']\n",
        "print(cities)\n",
        "cities.extend(['jeju','kwangju'])  # extend는 풀어져서 입력\n",
        "print(cities)"
      ],
      "metadata": {
        "colab": {
          "base_uri": "https://localhost:8080/"
        },
        "id": "yKT1Asf_mFs4",
        "outputId": "1c8838fe-7225-4e52-f69d-47d3aa57cdb0"
      },
      "execution_count": null,
      "outputs": [
        {
          "output_type": "stream",
          "name": "stdout",
          "text": [
            "['seoul', 'incheon', 'suwon']\n",
            "['seoul', 'incheon', 'suwon', 'jeju', 'kwangju']\n"
          ]
        }
      ]
    },
    {
      "cell_type": "code",
      "source": [
        "print(cities.index('seoul'))\n",
        "print('deagu' in cities)          # 포함 연산자\n",
        "cities.append(['daegu','ulsan'])  # []모양을 유지하면서 추가  # 차원을 늘리려면 !\n",
        "cities.insert(0,'daegu')\n",
        "print(cities)"
      ],
      "metadata": {
        "colab": {
          "base_uri": "https://localhost:8080/"
        },
        "id": "5wbauL-spcZ8",
        "outputId": "14a52fd9-1270-4e61-a5f6-91e5c6e031ed"
      },
      "execution_count": null,
      "outputs": [
        {
          "output_type": "stream",
          "name": "stdout",
          "text": [
            "3\n",
            "False\n",
            "['daegu', 'daegu', 'daegu', 'daegu', 'seoul', 'incheon', 'suwon', 'jeju', 'kwangju', ['daegu', 'ulsan'], ['daegu', 'ulsan'], ['daegu', 'ulsan'], ['daegu', 'ulsan']]\n"
          ]
        }
      ]
    },
    {
      "cell_type": "code",
      "source": [
        "# 2차원 리스트에 학생 3명의 이름과 국어\n",
        "[[\"대한\",40],[\"민국\",100],[\"만세\",0]]\n",
        "school = []\n",
        "school.append([\"대한\",40])\n",
        "school.append([\"민국\",100])\n",
        "school.append([\"만세\",0])\n",
        "print(school)  # 추상화 : 함수 이름만 알면 어떤 작업을 하는지 안다"
      ],
      "metadata": {
        "colab": {
          "base_uri": "https://localhost:8080/"
        },
        "id": "CKFOCcl9qIH9",
        "outputId": "a936b829-9a44-4819-edcc-d87ae1bde541"
      },
      "execution_count": null,
      "outputs": [
        {
          "output_type": "stream",
          "name": "stdout",
          "text": [
            "[['대한', 40], ['민국', 100], ['만세', 0]]\n"
          ]
        }
      ]
    },
    {
      "cell_type": "code",
      "source": [
        "# @title 기본 제목 텍스트\n",
        "print(cities[0])\n",
        "print(cities[6][0])\n",
        "cities.remove(cities[6])\n",
        "print(cities)"
      ],
      "metadata": {
        "colab": {
          "base_uri": "https://localhost:8080/"
        },
        "id": "xDaKjbKcp-1s",
        "outputId": "d01d028b-05b7-4c4e-f15c-83a80977ccf9"
      },
      "execution_count": null,
      "outputs": [
        {
          "output_type": "stream",
          "name": "stdout",
          "text": [
            "daegu\n",
            "s\n",
            "['daegu', 'daegu', 'daegu', 'daegu', 'seoul', 'incheon', 'jeju', 'kwangju', ['daegu', 'ulsan'], ['daegu', 'ulsan']]\n"
          ]
        }
      ]
    },
    {
      "cell_type": "code",
      "source": [
        "#data # 정의가 되지않음 ( 주소가없음) C: 포인터를 이용해 동적메모리 할당\n",
        "# 포인터가 초기가 안됨 : 에러발생"
      ],
      "metadata": {
        "id": "5OLLp9YarsT9"
      },
      "execution_count": null,
      "outputs": []
    },
    {
      "cell_type": "markdown",
      "source": [
        "# 새 섹션"
      ],
      "metadata": {
        "id": "XJ__ElbsQIOB"
      }
    }
  ]
}